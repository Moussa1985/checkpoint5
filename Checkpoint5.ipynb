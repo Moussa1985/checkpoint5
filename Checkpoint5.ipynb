{
 "cells": [
  {
   "cell_type": "code",
   "execution_count": 40,
   "id": "7a65038f",
   "metadata": {},
   "outputs": [],
   "source": [
    "#Q1\n",
    "class Point3D:\n",
    "    def __init__(self,x,y,z):\n",
    "        self.x=x\n",
    "        self.y=y\n",
    "        self.z=z\n",
    "    def __str__(self):\n",
    "        return f'({self.x},{self.y},{self.z})'"
   ]
  },
  {
   "cell_type": "code",
   "execution_count": 41,
   "id": "f3fb7303",
   "metadata": {},
   "outputs": [
    {
     "name": "stdout",
     "output_type": "stream",
     "text": [
      "(1,2,3)\n"
     ]
    }
   ],
   "source": [
    "my_point=Point3D(1,2,3)\n",
    "print(my_point)"
   ]
  },
  {
   "cell_type": "code",
   "execution_count": null,
   "id": "b23eda11",
   "metadata": {},
   "outputs": [],
   "source": [
    "##Q2\n",
    "class Rectangle:\n",
    "    def __init__(self,length, width):\n",
    "        self.length=length\n",
    "        self.width=width\n",
    "    def area(self):\n",
    "        return self.length * self.width\n",
    "    def perimeter(self):\n",
    "        return 2*(self.length + self.width)"
   ]
  },
  {
   "cell_type": "code",
   "execution_count": 42,
   "id": "003077b2",
   "metadata": {},
   "outputs": [
    {
     "name": "stdout",
     "output_type": "stream",
     "text": [
      "Area 12\n",
      "Perimeter 14\n"
     ]
    }
   ],
   "source": [
    "my_rectangle=Rectangle(4,3)\n",
    "print(\"Area\",my_rectangle.area())\n",
    "print(\"Perimeter\",my_rectangle.perimeter())"
   ]
  },
  {
   "cell_type": "code",
   "execution_count": 45,
   "id": "f7081d55",
   "metadata": {},
   "outputs": [],
   "source": [
    "##Q3\n",
    "import math\n",
    "class circle:\n",
    "    def __init__(self, origin_x,origin_y,radius):\n",
    "        self.origin_x=origin_x\n",
    "        self.origin_y=origin_y\n",
    "        self.radius=radius\n",
    "    def area(self):\n",
    "        return (self.radius**2)*math.pi\n",
    "    def perimeter(self):\n",
    "        return (self.radius*2)*math.pi\n",
    "    def isInside(self,x,y):\n",
    "        dist=(self.origin_x-x)**2+(self.origin_y-y)**2\n",
    "        dist=math.sqrt(dist)\n",
    "        return dist <= self.radius"
   ]
  },
  {
   "cell_type": "code",
   "execution_count": 46,
   "id": "9a668e5b",
   "metadata": {},
   "outputs": [
    {
     "data": {
      "text/plain": [
       "True"
      ]
     },
     "execution_count": 46,
     "metadata": {},
     "output_type": "execute_result"
    }
   ],
   "source": [
    "circle=circle(0,0, 3)\n",
    "circle.isInside(0, 1)"
   ]
  },
  {
   "cell_type": "code",
   "execution_count": 37,
   "id": "c007afb2",
   "metadata": {},
   "outputs": [],
   "source": [
    "##Q4\n",
    "class bank:\n",
    "    def __init__(self,balance):\n",
    "        self.balance=balance\n",
    "        \n",
    "    def deposit (self):\n",
    "        depo=float(input(\"Entrer le montant a déposé:\"))\n",
    "        self.balance=self.balance + depo\n",
    "    def withdraw (self):\n",
    "        raw=float(input(\"Entrer le montant a retiré:\"))\n",
    "        if self.balance < raw:\n",
    "            print(\"solde insufisant!!\")\n",
    "        else:\n",
    "            self.balance=self.balance-raw\n",
    "            print(\"Vous avez retirer\",raw)\n",
    "    def resume(self):\n",
    "        print(\"votre solde est de:\",self.balance)\n",
    "        "
   ]
  },
  {
   "cell_type": "code",
   "execution_count": 38,
   "id": "829d1c71",
   "metadata": {},
   "outputs": [],
   "source": [
    "moussa=bank(0)"
   ]
  },
  {
   "cell_type": "code",
   "execution_count": 39,
   "id": "abae90d0",
   "metadata": {},
   "outputs": [
    {
     "name": "stdout",
     "output_type": "stream",
     "text": [
      "votre solde est de: 0\n"
     ]
    }
   ],
   "source": [
    "moussa.resume()"
   ]
  },
  {
   "cell_type": "code",
   "execution_count": 40,
   "id": "3efb6827",
   "metadata": {},
   "outputs": [
    {
     "name": "stdout",
     "output_type": "stream",
     "text": [
      "Entrer le montant a déposé:1000\n"
     ]
    }
   ],
   "source": [
    "moussa.deposit()"
   ]
  },
  {
   "cell_type": "code",
   "execution_count": 42,
   "id": "ac758c14",
   "metadata": {},
   "outputs": [
    {
     "name": "stdout",
     "output_type": "stream",
     "text": [
      "votre solde est de: 1000.0\n"
     ]
    }
   ],
   "source": [
    "moussa.resume()\n"
   ]
  },
  {
   "cell_type": "code",
   "execution_count": 43,
   "id": "95fd5cb7",
   "metadata": {},
   "outputs": [
    {
     "name": "stdout",
     "output_type": "stream",
     "text": [
      "Entrer le montant a retiré:250\n",
      "Vous avez retirer 250.0\n"
     ]
    }
   ],
   "source": [
    "moussa.withdraw()"
   ]
  },
  {
   "cell_type": "code",
   "execution_count": 44,
   "id": "989cb0db",
   "metadata": {},
   "outputs": [
    {
     "name": "stdout",
     "output_type": "stream",
     "text": [
      "votre solde est de: 750.0\n"
     ]
    }
   ],
   "source": [
    "moussa.resume()"
   ]
  },
  {
   "cell_type": "code",
   "execution_count": null,
   "id": "d5ca03ce",
   "metadata": {},
   "outputs": [],
   "source": []
  },
  {
   "cell_type": "code",
   "execution_count": null,
   "id": "99fd7ce2",
   "metadata": {},
   "outputs": [],
   "source": []
  }
 ],
 "metadata": {
  "kernelspec": {
   "display_name": "Python 3",
   "language": "python",
   "name": "python3"
  },
  "language_info": {
   "codemirror_mode": {
    "name": "ipython",
    "version": 3
   },
   "file_extension": ".py",
   "mimetype": "text/x-python",
   "name": "python",
   "nbconvert_exporter": "python",
   "pygments_lexer": "ipython3",
   "version": "3.8.8"
  }
 },
 "nbformat": 4,
 "nbformat_minor": 5
}
